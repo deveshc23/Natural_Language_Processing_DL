{
 "cells": [
  {
   "cell_type": "code",
   "execution_count": 2,
   "metadata": {},
   "outputs": [
    {
     "name": "stdout",
     "output_type": "stream",
     "text": [
      "[1, 2, 3, 4, 5]\n",
      "[1 2 3 4]\n",
      "<class 'list'>\n",
      "<class 'numpy.ndarray'>\n"
     ]
    }
   ],
   "source": [
    "import numpy as np\n",
    "alist=[1,2,3,4,5] #list\n",
    "narray=np.array([1,2,3,4]) #array\n",
    "print(alist)\n",
    "print(narray)\n",
    "print(type(alist))\n",
    "print(type(narray))"
   ]
  },
  {
   "cell_type": "code",
   "execution_count": 3,
   "metadata": {},
   "outputs": [
    {
     "name": "stdout",
     "output_type": "stream",
     "text": [
      "[2 4 6 8]\n",
      "[1, 2, 3, 4, 5, 1, 2, 3, 4, 5]\n",
      "[ 3  6  9 12]\n",
      "[1, 2, 3, 4, 5, 1, 2, 3, 4, 5, 1, 2, 3, 4, 5]\n"
     ]
    }
   ],
   "source": [
    "print(narray + narray) #adds two vectors with same dimension\n",
    "print(alist + alist) #concatenates two lists\n",
    "print(narray * 3) #multiplies each element of array with 3\n",
    "print(alist * 3) #concatenates the list 3 times"
   ]
  },
  {
   "cell_type": "code",
   "execution_count": 4,
   "metadata": {},
   "outputs": [
    {
     "name": "stdout",
     "output_type": "stream",
     "text": [
      "[[1 2 3 4]\n",
      " [1 2 3 4]\n",
      " [1 2 3 4]]\n",
      "[[1 2 3 4 5]\n",
      " [1 2 3 4 5]\n",
      " [1 2 3 4 5]]\n"
     ]
    },
    {
     "data": {
      "text/plain": [
       "'Always make sure that the rows have the same number of elements'"
      ]
     },
     "execution_count": 4,
     "metadata": {},
     "output_type": "execute_result"
    }
   ],
   "source": [
    "npmatrix=np.array([narray,narray,narray]) #creates a 3x4 matrix\n",
    "npmatrix2=np.array([alist,alist,alist]) #creates a 3x5 matrix\n",
    "print(npmatrix)\n",
    "print(npmatrix2)\n",
    "\"\"\"Always make sure that the rows have the same number of elements\"\"\""
   ]
  },
  {
   "cell_type": "code",
   "execution_count": 5,
   "metadata": {},
   "outputs": [
    {
     "name": "stdout",
     "output_type": "stream",
     "text": [
      "(3, 4)\n",
      "(3, 5)\n",
      "[[ 3  6  9 12]\n",
      " [ 3  6  9 12]\n",
      " [ 3  6  9 12]]\n"
     ]
    }
   ],
   "source": [
    "print(npmatrix.shape) #prints the shape of the matrix\n",
    "print(npmatrix2.shape) #prints the shape of the matrix\n",
    "print(npmatrix*3)"
   ]
  },
  {
   "cell_type": "code",
   "execution_count": 6,
   "metadata": {},
   "outputs": [
    {
     "name": "stdout",
     "output_type": "stream",
     "text": [
      "[[ 1  4  9 16]\n",
      " [ 1  4  9 16]\n",
      " [ 1  4  9 16]]\n"
     ]
    }
   ],
   "source": [
    "print(npmatrix*npmatrix) #element wise multiplication"
   ]
  },
  {
   "cell_type": "code",
   "execution_count": 7,
   "metadata": {},
   "outputs": [
    {
     "name": "stdout",
     "output_type": "stream",
     "text": [
      "[[ 1  5  9]\n",
      " [ 2  6 10]\n",
      " [ 3  7 11]\n",
      " [ 4  8 12]]\n"
     ]
    }
   ],
   "source": [
    "matrix3x4=np.array([[1,2,3,4],[5,6,7,8],[9,10,11,12]])\n",
    "t_matrix3x4=matrix3x4.T #transpose of the matrix\n",
    "print(t_matrix3x4)"
   ]
  },
  {
   "cell_type": "code",
   "execution_count": 8,
   "metadata": {},
   "outputs": [
    {
     "name": "stdout",
     "output_type": "stream",
     "text": [
      "5.477225575051661\n",
      "5.477225575051661\n",
      "[3.16227766 4.47213595]\n",
      "[2.23606798 5.        ]\n"
     ]
    }
   ],
   "source": [
    "nparray1=np.array([1,2,3,4])\n",
    "norm1=np.linalg.norm(nparray1) #calculates the norm of the vector\n",
    "print(norm1)\n",
    "nparray2=np.array([[1,2],[3,4]]) \n",
    "norm2=np.linalg.norm(nparray2) # without another parameter it calculates the norm as an array\n",
    "print(norm2)\n",
    "normbyCols=np.linalg.norm(nparray2,axis=0) #calculates the norm of the columns\n",
    "normbyRows=np.linalg.norm(nparray2,axis=1) #calculates the norm of the rows\n",
    "print(normbyCols)\n",
    "print(normbyRows)"
   ]
  },
  {
   "cell_type": "code",
   "execution_count": 9,
   "metadata": {},
   "outputs": [
    {
     "name": "stdout",
     "output_type": "stream",
     "text": [
      "38\n"
     ]
    }
   ],
   "source": [
    "#THE DOT PRODUCT\n",
    "nparray1=np.array([0,1,2,3])\n",
    "nparray2=np.array([4,5,6,7])\n",
    "dotproduct=np.dot(nparray1,nparray2) #dot product of two vectors\n",
    "print(dotproduct)"
   ]
  },
  {
   "cell_type": "code",
   "execution_count": 10,
   "metadata": {},
   "outputs": [
    {
     "name": "stdout",
     "output_type": "stream",
     "text": [
      "[4 6]\n",
      "[3 7]\n",
      "[[-1. -1.]\n",
      " [ 1.  1.]]\n",
      "[[-0.5  0.5]\n",
      " [-0.5  0.5]]\n"
     ]
    }
   ],
   "source": [
    "nparray2=np.array([[1,2],[3,4]])\n",
    "sumbycol=np.sum(nparray2,axis=0) #sum of the columns\n",
    "sumbyrow=np.sum(nparray2,axis=1) #sum of the rows\n",
    "print(sumbycol)\n",
    "print(sumbyrow)\n",
    "narray_centered=nparray2-np.mean(nparray2,axis=0) #centering the matrix\n",
    "print(narray_centered)\n",
    "#for row centered matrix\n",
    "narray_centered=nparray2.T-np.mean(nparray2,axis=1) #centering the matrix\n",
    "print(narray_centered.T)"
   ]
  }
 ],
 "metadata": {
  "kernelspec": {
   "display_name": "Python 3",
   "language": "python",
   "name": "python3"
  },
  "language_info": {
   "codemirror_mode": {
    "name": "ipython",
    "version": 3
   },
   "file_extension": ".py",
   "mimetype": "text/x-python",
   "name": "python",
   "nbconvert_exporter": "python",
   "pygments_lexer": "ipython3",
   "version": "3.12.6"
  }
 },
 "nbformat": 4,
 "nbformat_minor": 2
}
